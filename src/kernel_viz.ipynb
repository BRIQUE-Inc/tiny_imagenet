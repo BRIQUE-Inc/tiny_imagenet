{
 "cells": [
  {
   "cell_type": "markdown",
   "metadata": {},
   "source": [
    "# Tiny ImageNet: Visualize Layers\n",
    "\n",
    "Simple routine to visualize the first stack of 3x3 kernels (conv1_1 + conv2_2) before max-pooling. We see the typical patterns: horizontal, vertical and diagonal stripes, and various color spots. It is interesting (and reassuring) to see that two slightly different models learn similar filter kernels. \n",
    "\n",
    "Here is the basic procedure:\n",
    "\n",
    "1. Load a trained model\n",
    "2. Apply an even gray image to the input (i.e. all 128s)\n",
    "3. Take the gradient of a conv2_2 output (choosing a center \"pixel\") vs. input image \n",
    "    b. Repeat for each of the 64 filters\n",
    "4. Crop the image gradient: it is mostly zeros except near the receptive field\n",
    "5. Scale the gradients to fill 0-255 range in RGB\n",
    "6. Arrange the 64 gradient crops into a single 8x8 image array and plot\n",
    "\n",
    "Python Notebook by Patrick Coady: [Learning Artificial Intelligence](https://pat-coady.github.io/)"
   ]
  },
  {
   "cell_type": "code",
   "execution_count": 1,
   "metadata": {
    "collapsed": true
   },
   "outputs": [],
   "source": [
    "from train import *\n",
    "import tensorflow as tf\n",
    "import matplotlib.pyplot as plt\n",
    "import scipy.ndimage\n",
    "\n",
    "%matplotlib inline\n",
    "plt.rcParams['figure.figsize'] = (10, 6)"
   ]
  },
  {
   "cell_type": "code",
   "execution_count": 2,
   "metadata": {
    "collapsed": true
   },
   "outputs": [],
   "source": [
    "class TrainConfig(object):\n",
    "    \"\"\"Training configuration\"\"\"\n",
    "    dropout_keep_prob = 1.0\n",
    "    model_name = 'vgg_16'  # choose model \n",
    "    model = staticmethod(globals()[model_name])\n",
    "    config_name = 'baseline'  # choose training run"
   ]
  },
  {
   "cell_type": "code",
   "execution_count": 3,
   "metadata": {
    "collapsed": true
   },
   "outputs": [],
   "source": [
    "def img_grad(config):\n",
    "    \"\"\"find gradient from pixel to img\"\"\"\n",
    "    with tf.Graph().as_default():\n",
    "        g = tf.get_default_graph()\n",
    "        img = tf.Variable(np.zeros((1, 56, 56, 3), dtype=np.uint8) + 128,\n",
    "                           trainable=False,\n",
    "                           dtype=tf.uint8,\n",
    "                         collections=[tf.GraphKeys.LOCAL_VARIABLES])\n",
    "        logits = config.model(img, config)\n",
    "        pixels = g.get_tensor_by_name('conv1_2/BiasAdd:0')\n",
    "        float_img = g.get_tensor_by_name('Cast:0')\n",
    "        grads = []\n",
    "        for i in range(64):\n",
    "            grads.append(tf.gradients(pixels[0, 28, 28, i], float_img))\n",
    "        saver = tf.train.Saver()\n",
    "        init = tf.group(tf.global_variables_initializer(),\n",
    "                    tf.local_variables_initializer())\n",
    "        with tf.Session() as sess:\n",
    "            init.run()\n",
    "            path = 'checkpoints/' + config.model_name + '/' + config.config_name\n",
    "            saver.restore(sess, tf.train.latest_checkpoint(path))\n",
    "            results = sess.run(grads)\n",
    "      \n",
    "    return results"
   ]
  },
  {
   "cell_type": "code",
   "execution_count": 4,
   "metadata": {},
   "outputs": [
    {
     "name": "stdout",
     "output_type": "stream",
     "text": [
      "INFO:tensorflow:Restoring parameters from checkpoints/vgg_16/baseline/model-42000\n"
     ]
    }
   ],
   "source": [
    "config = TrainConfig()\n",
    "result = img_grad(config)"
   ]
  },
  {
   "cell_type": "code",
   "execution_count": 5,
   "metadata": {},
   "outputs": [
    {
     "data": {
      "image/png": "[encoded data removed]",
      "text/plain": [
       "<matplotlib.figure.Figure at 0x7fe03aa2b208>"
      ]
     },
     "metadata": {},
     "output_type": "display_data"
    }
   ],
   "source": [
    "composite = np.zeros((7*8, 7*8, 3), dtype=np.uint8)\n",
    "for i in range(8):\n",
    "    for j in range(8):\n",
    "        idx = i * 8 + j\n",
    "        crop = np.squeeze(result[idx])[25:32, 25:32, :]\n",
    "        crop = crop / np.max([-np.min(crop), np.max(crop)])\n",
    "        crop = (crop * 127 + 128).astype(np.uint8)\n",
    "        composite[(i*7):(i*7+7), (j*7):(j*7+7), :] = crop\n",
    "        \n",
    "plt.imshow(composite, interpolation='none')\n",
    "plt.axis('off')\n",
    "plt.show()"
   ]
  },
  {
   "cell_type": "code",
   "execution_count": null,
   "metadata": {
    "collapsed": true
   },
   "outputs": [],
   "source": [
    ""
   ]
  }
 ],
 "metadata": {
  "kernelspec": {
   "display_name": "Python 3",
   "language": "python",
   "name": "python3"
  },
  "language_info": {
   "codemirror_mode": {
    "name": "ipython",
    "version": 3.0
   },
   "file_extension": ".py",
   "mimetype": "text/x-python",
   "name": "python",
   "nbconvert_exporter": "python",
   "pygments_lexer": "ipython3",
   "version": "3.5.2"
  }
 },
 "nbformat": 4,
 "nbformat_minor": 0
}